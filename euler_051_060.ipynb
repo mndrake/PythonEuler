{
 "cells": [
  {
   "cell_type": "markdown",
   "metadata": {},
   "source": [
    "### Prime digit replacements\n",
    "#### Problem 51\n",
    "By replacing the 1st digit of the 2-digit number *3, it turns out that six of the nine possible values: $13, 23, 43, 53, 73$, and $83$, are all prime.\n",
    "\n",
    "By replacing the 3rd and 4th digits of 56**3 with the same digit, this 5-digit number is the first example having seven primes among the ten generated numbers, yielding the family: $56003, 56113, 56333, 56443, 56663, 56773$, and $56993$. Consequently $56003$, being the first member of this family, is the smallest prime with this property.\n",
    "\n",
    "Find the smallest prime which, by replacing part of the number (not necessarily adjacent digits) with the same digit, is part of an eight prime value family."
   ]
  },
  {
   "cell_type": "code",
   "execution_count": 28,
   "metadata": {
    "collapsed": false
   },
   "outputs": [
    {
     "name": "stdout",
     "output_type": "stream",
     "text": [
      "result: 121313 (3.78s)\n"
     ]
    }
   ],
   "source": [
    "from euler import Seq, timer, primes, is_prime\n",
    "\n",
    "def p051():    \n",
    "    def groups(n):\n",
    "        return ([[int(str(n).replace(x,y)) for y in '0123456789']\n",
    "                 >> Seq.toSet \n",
    "                 >> Seq.filter(is_prime) \n",
    "                 >> Seq.toList\n",
    "                for x in '0123456789']\n",
    "                >> Seq.filter(lambda s: (s >> Seq.length) == 8))\n",
    "\n",
    "    return (primes()\n",
    "            >> Seq.skipWhile(lambda x: x < 100000)\n",
    "            >> Seq.collect(groups)\n",
    "            >> Seq.nth(1)\n",
    "            >> Seq.min)\n",
    "\n",
    "timer(p051)"
   ]
  },
  {
   "cell_type": "markdown",
   "metadata": {},
   "source": [
    "### Permuted multiples\n",
    "#### Problem 52\n",
    "It can be seen that the number, $125874$, and its double, $251748$, contain exactly the same digits, but in a different order.\n",
    "\n",
    "Find the smallest positive integer, x, such that 2x, 3x, 4x, 5x, and 6x, contain the same digits."
   ]
  },
  {
   "cell_type": "code",
   "execution_count": 34,
   "metadata": {
    "collapsed": false
   },
   "outputs": [
    {
     "name": "stdout",
     "output_type": "stream",
     "text": [
      "result: 142857 (1.01s)\n"
     ]
    }
   ],
   "source": [
    "from euler import Seq, timer\n",
    "\n",
    "def p052():\n",
    "    digits = lambda n: str(n) >> Seq.toSet\n",
    "\n",
    "    def same_multiples(n):\n",
    "        sets = range(1,7) >> Seq.map(lambda m: digits(n*m)) >> Seq.toList\n",
    "        if (sets[1:] >> Seq.forall(lambda x: x==sets[0])):\n",
    "            return n\n",
    "        else:\n",
    "            return None\n",
    "\n",
    "    return(\n",
    "        xrange(100000, 1000000)\n",
    "        >> Seq.map(same_multiples)\n",
    "        >> Seq.find(lambda n: n is not None))\n",
    "\n",
    "timer(p052)"
   ]
  },
  {
   "cell_type": "markdown",
   "metadata": {},
   "source": [
    "### Combinatoric selections\n",
    "#### Problem 53\n",
    "There are exactly ten ways of selecting three from five, $12345$:\n",
    "\n",
    "$123, 124, 125, 134, 135, 145, 234, 235, 245$, and $345$\n",
    "\n",
    "In combinatorics, we use the notation, $^5C_3=10$.\n",
    "\n",
    "In general,\n",
    "\n",
    "$^nC_r = \\frac {n!} {r!(n-r)!}$, where $r ≤ n$, $n! = n×(n−1)×...×3×2×1$, and $0! = 1$. It is not until $n = 23$, that a value exceeds one-million: $^{23}C_{10} = 1144066$.\n",
    "\n",
    "How many, not necessarily distinct, values of  $^nC_r$, for $1 ≤ n ≤ 100$, are greater than one-million?"
   ]
  },
  {
   "cell_type": "code",
   "execution_count": 67,
   "metadata": {
    "collapsed": false
   },
   "outputs": [
    {
     "name": "stdout",
     "output_type": "stream",
     "text": [
      "result: 4075 (0.01s)\n"
     ]
    }
   ],
   "source": [
    "from euler import Seq, memoize, timer\n",
    "from math import log\n",
    "\n",
    "@memoize\n",
    "def log_factorial(n):\n",
    "    return xrange(1, n+1) >> Seq.sumBy(log)\n",
    "\n",
    "log_combinations = lambda n,r: log_factorial(n) - log_factorial(r) - log_factorial(n-r)\n",
    "\n",
    "def p053():\n",
    "    cnt = 0\n",
    "    for n in xrange(1,101):\n",
    "        for r in xrange(1,n):\n",
    "            if log_combinations(n,r) > log(1000000):\n",
    "                cnt += 1\n",
    "    return cnt\n",
    "\n",
    "timer(p053)"
   ]
  },
  {
   "cell_type": "markdown",
   "metadata": {},
   "source": [
    "### Poker hands\n",
    "#### Problem 54\n",
    "In the card game poker, a hand consists of five cards and are ranked, from lowest to highest, in the following way:\n",
    "\n",
    "* __High Card__: Highest value card.\n",
    "* __One Pair__: Two cards of the same value.\n",
    "* __Two Pairs__: Two different pairs.\n",
    "* __Three of a Kind__: Three cards of the same value.\n",
    "* __Straight__: All cards are consecutive values.\n",
    "* __Flush__: All cards of the same suit.\n",
    "* __Full House__: Three of a kind and a pair.\n",
    "* __Four of a Kind__: Four cards of the same value.\n",
    "* __Straight Flush__: All cards are consecutive values of same suit.\n",
    "* __Royal Flush__: Ten, Jack, Queen, King, Ace, in same suit.  \n",
    "\n",
    "The cards are valued in the order:  \n",
    "2, 3, 4, 5, 6, 7, 8, 9, 10, Jack, Queen, King, Ace.\n",
    "\n",
    "If two players have the same ranked hands then the rank made up of the highest value wins; for example, a pair of eights beats a pair of fives (see example 1 below). But if two ranks tie, for example, both players have a pair of queens, then highest cards in each hand are compared (see example 4 below); if the highest cards tie then the next highest cards are compared, and so on.\n",
    "\n",
    "Consider the following five hands dealt to two players:\n",
    "\n",
    "<div style=\"text-align:center;\">\n",
    "<table>\n",
    "<tr>\n",
    "<td><b>Hand</b></td><td>&nbsp;</td><td><b>Player 1</b></td><td>&nbsp;</td><td><b>Player 2</b></td><td>&nbsp;</td><td><b>Winner</b></td>\n",
    "</tr>\n",
    "<tr>\n",
    "<td style=\"vertical-align:top;\"><b>1</b></td><td>&nbsp;</td><td>5H 5C 6S 7S KD<br /><div class=\"info\">Pair of Fives</div></td><td>&nbsp;</td><td>2C 3S 8S 8D TD<br /><div class=\"info\">Pair of Eights</div></td><td>&nbsp;</td><td style=\"vertical-align:top;\">Player 2</td>\n",
    "</tr>\n",
    "<tr>\n",
    "<td style=\"vertical-align:top;\"><b>2</b></td><td>&nbsp;</td><td>5D 8C 9S JS AC<br /><div class=\"info\">Highest card Ace</div></td><td>&nbsp;</td><td>2C 5C 7D 8S QH<br /><div class=\"info\">Highest card Queen</div></td><td>&nbsp;</td><td style=\"vertical-align:top;\">Player 1</td>\n",
    "</tr>\n",
    "<tr>\n",
    "<td style=\"vertical-align:top;\"><b>3</b></td><td>&nbsp;</td><td>2D 9C AS AH AC<br /><div class=\"info\">Three Aces</div></td><td>&nbsp;</td><td>3D 6D 7D TD QD<br /><div class=\"info\">Flush  with Diamonds</div></td><td>&nbsp;</td><td style=\"vertical-align:top;\">Player 2</td>\n",
    "</tr>\n",
    "<tr>\n",
    "<td style=\"vertical-align:top;\"><b>4</b></td><td>&nbsp;</td><td>4D 6S 9H QH QC<br /><div class=\"info\">Pair of Queens<br />Highest card Nine</div></td><td>&nbsp;</td><td>3D 6D 7H QD QS<br /><div class=\"info\">Pair of Queens<br />Highest card Seven</div></td><td>&nbsp;</td><td style=\"vertical-align:top;\">Player 1</td>\n",
    "</tr>\n",
    "<tr>\n",
    "<td style=\"vertical-align:top;\"><b>5</b></td><td>&nbsp;</td><td>2H 2D 4C 4D 4S<br /><div class=\"info\">Full House<br />With Three Fours</div></td><td>&nbsp;</td><td>3C 3D 3S 9S 9D<br /><div class=\"info\">Full House<br />with Three Threes</div></td><td>&nbsp;</td><td style=\"vertical-align:top;\">Player 1</td>\n",
    "</tr>\n",
    "</table>\n",
    "</div>\n",
    "\n",
    "The file, poker.txt, contains one-thousand random hands dealt to two players. Each line of the file contains ten cards (separated by a single space): the first five are Player 1's cards and the last five are Player 2's cards. You can assume that all hands are valid (no invalid characters or repeated cards), each player's hand is in no specific order, and in each hand there is a clear winner.\n",
    "\n",
    "How many hands does Player 1 win?"
   ]
  },
  {
   "cell_type": "code",
   "execution_count": 100,
   "metadata": {
    "collapsed": false
   },
   "outputs": [
    {
     "name": "stdout",
     "output_type": "stream",
     "text": [
      "result: 376 (0.04s)\n"
     ]
    }
   ],
   "source": [
    "from euler import timer\n",
    "from collections import Counter\n",
    "\n",
    "def p054():\n",
    "    values = {r:i for i,r in enumerate('23456789TJQKA', start=2)}\n",
    "    straights = [(v, v-1, v-2, v-3, v-4) for v in range(14, 5, -1)] + [(14, 5, 4, 3, 2)]\n",
    "\n",
    "    ranks = [(1,1,1,1,1), # 0:high card\n",
    "             (2,1,1,1),   # 1:pair\n",
    "             (2,2,1),     # 2:two pairs\n",
    "             (3,1,1),     # 3:3 of a kind\n",
    "             (),          # 4:straight\n",
    "             (),          # 5:flush\n",
    "             (3,2),       # 6:full house\n",
    "             (4,1)        # 7:four of a kind\n",
    "                          # 8:straight flush\n",
    "            ]\n",
    "\n",
    "    def hand_rank(hand):\n",
    "        score = zip(*sorted(((v, values[k]) for\n",
    "                k,v in Counter(x[0] for x in hand).items()), reverse=True))\n",
    "        rank = ranks.index(score[0])\n",
    "        if len(set(card[1] for card in hand)) == 1: \n",
    "            rank = 5  # flush\n",
    "        if score[1] in straights:\n",
    "            rank = 8 if rank == 5 else 4  # straight/straight flush\n",
    "        return (rank, score[1])\n",
    "    \n",
    "    hands = (line.split() for line in open(\"data/p054.txt\"))\n",
    "\n",
    "    return sum(hand_rank(hand[:5]) > hand_rank(hand[5:]) for hand in hands)\n",
    "    \n",
    "timer(p054)"
   ]
  },
  {
   "cell_type": "markdown",
   "metadata": {},
   "source": [
    "### Lychrel numbers\n",
    "#### Problem 55\n",
    "\n",
    "If we take 47, reverse and add, 47 + 74 = 121, which is palindromic.\n",
    "\n",
    "Not all numbers produce palindromes so quickly. For example,\n",
    "\n",
    "$$349 + 943 = 1292$$\n",
    "$$1292 + 2921 = 4213$$\n",
    "$$4213 + 3124 = 7337$$\n",
    "\n",
    "That is, $349$ took three iterations to arrive at a palindrome.\n",
    "\n",
    "Although no one has proved it yet, it is thought that some numbers, like $196$, never produce a palindrome. A number that never forms a palindrome through the reverse and add process is called a Lychrel number. Due to the theoretical nature of these numbers, and for the purpose of this problem, we shall assume that a number is Lychrel until proven otherwise. In addition you are given that for every number below ten-thousand, it will either (i) become a palindrome in less than fifty iterations, or, (ii) no one, with all the computing power that exists, has managed so far to map it to a palindrome. In fact, $10677$ is the first number to be shown to require over fifty iterations before producing a palindrome: $4668731596684224866951378664$ (53 iterations, 28-digits).\n",
    "\n",
    "Surprisingly, there are palindromic numbers that are themselves Lychrel numbers; the first example is $4994$.\n",
    "\n",
    "How many Lychrel numbers are there below ten-thousand?"
   ]
  },
  {
   "cell_type": "code",
   "execution_count": 138,
   "metadata": {
    "collapsed": false
   },
   "outputs": [
    {
     "name": "stdout",
     "output_type": "stream",
     "text": [
      "result: 249 (0.13s)\n"
     ]
    }
   ],
   "source": [
    "from euler import Seq, timer\n",
    "\n",
    "def p055():\n",
    "    rev = lambda n: int(str(n)[::-1])\n",
    "    is_palindrome = lambda n: n == rev(n)\n",
    "    def is_lychrel(n):\n",
    "        i, a = 0, n\n",
    "        while i < 50:\n",
    "            a += rev(a)\n",
    "            i += 1 \n",
    "            if is_palindrome(a): return False\n",
    "        return True\n",
    "    return xrange(1,10001) >> Seq.filter(is_lychrel) >> Seq.length\n",
    "\n",
    "timer(p055)"
   ]
  },
  {
   "cell_type": "markdown",
   "metadata": {},
   "source": [
    "### Powerful digit sum\n",
    "#### Problem 56\n",
    "A googol ($10^{100}$) is a massive number: one followed by one-hundred zeros; $100^{100}$ is almost unimaginably large: one followed by two-hundred zeros. Despite their size, the sum of the digits in each number is only 1.\n",
    "\n",
    "Considering natural numbers of the form, $a^b$, where $a, b < 100$, what is the maximum digital sum?"
   ]
  },
  {
   "cell_type": "code",
   "execution_count": 178,
   "metadata": {
    "collapsed": false
   },
   "outputs": [
    {
     "name": "stdout",
     "output_type": "stream",
     "text": [
      "result: 972 (0.52s)\n"
     ]
    }
   ],
   "source": [
    "from euler import timer\n",
    "\n",
    "def p056():\n",
    "    digit_sum = lambda a,b: sum(int(x) for x in str(a**b))\n",
    "    return max(digit_sum(a,b) for a in range(1,100) for b in range(1,100))\n",
    "\n",
    "timer(p056)"
   ]
  },
  {
   "cell_type": "markdown",
   "metadata": {},
   "source": [
    "### Square root convergents\n",
    "#### Problem 57\n",
    "It is possible to show that the square root of two can be expressed as an infinite continued fraction.\n",
    "\n",
    "$$√ 2 = 1 + 1/(2 + 1/(2 + 1/(2 + ... ))) = 1.414213...$$\n",
    "\n",
    "By expanding this for the first four iterations, we get:\n",
    "\n",
    "$$1 + 1/2 = 3/2 = 1.5$$\n",
    "$$1 + 1/(2 + 1/2) = 7/5 = 1.4$$\n",
    "$$1 + 1/(2 + 1/(2 + 1/2)) = 17/12 = 1.41666...$$\n",
    "$$1 + 1/(2 + 1/(2 + 1/(2 + 1/2))) = 41/29 = 1.41379...$$\n",
    "\n",
    "The next three expansions are $99/70$, $239/169$, and $577/408$, but the eighth expansion, $1393/985$, is the first example where the number of digits in the numerator exceeds the number of digits in the denominator.\n",
    "\n",
    "In the first one-thousand expansions, how many fractions contain a numerator with more digits than denominator?"
   ]
  },
  {
   "cell_type": "code",
   "execution_count": 232,
   "metadata": {
    "collapsed": false
   },
   "outputs": [
    {
     "name": "stdout",
     "output_type": "stream",
     "text": [
      "result: 153 (0.55s)\n"
     ]
    }
   ],
   "source": [
    "from euler import Seq, timer\n",
    "from fractions import Fraction\n",
    "\n",
    "def p057():\n",
    "    \n",
    "    digits = lambda n: len(str(n))\n",
    "\n",
    "    def series():\n",
    "        n = Fraction(1)\n",
    "        while True:\n",
    "            n = 1 + 1/(1+n)\n",
    "            yield n\n",
    "        \n",
    "    return(\n",
    "        series() \n",
    "        >> Seq.take(1000) \n",
    "        >> Seq.filter(lambda n: digits(n.numerator) > digits(n.denominator)) \n",
    "        >> Seq.length)\n",
    "\n",
    "timer(p057)"
   ]
  },
  {
   "cell_type": "markdown",
   "metadata": {},
   "source": [
    "### Spiral primes\n",
    "#### Problem 58\n",
    "Starting with 1 and spiralling anticlockwise in the following way, a square spiral with side length 7 is formed.\n",
    "\n",
    "<p style='text-align:center;font-family:courier new;'><span style='color:#ff0000;font-family:courier new;'><b>37</b></span> 36 35 34 33 32 <span style='color:#ff0000;font-family:courier new;'><b>31</b></span><br />\n",
    "38 <span style='color:#ff0000;font-family:courier new;'><b>17</b></span> 16 15 14 <span style='color:#ff0000;font-family:courier new;'><b>13</b></span> 30<br />\n",
    "39 18 <span style='color:#ff0000;font-family:courier new;'>&nbsp;<b>5</b></span> &nbsp;4 <span style='color:#ff0000;font-family:courier new;'>&nbsp;<b>3</b></span> 12 29<br />\n",
    "40 19 &nbsp;6 &nbsp;1 &nbsp;2 11 28<br />\n",
    "41 20 <span style='color:#ff0000;font-family:courier new;'>&nbsp;<b>7</b></span> &nbsp;8 &nbsp;9 10 27<br />\n",
    "42 21 22 23 24 25 26<br />\n",
    "<span style='color:#ff0000;font-family:courier new;'><b>43</b></span> 44 45 46 47 48 49</p>\n",
    "\n",
    "\n",
    "It is interesting to note that the odd squares lie along the bottom right diagonal, but what is more interesting is that 8 out of the 13 numbers lying along both diagonals are prime; that is, a ratio of 8/13 ≈ 62%.\n",
    "\n",
    "If one complete new layer is wrapped around the spiral above, a square spiral with side length 9 will be formed. If this process is continued, what is the side length of the square spiral for which the ratio of primes along both diagonals first falls below 10%?"
   ]
  },
  {
   "cell_type": "code",
   "execution_count": 236,
   "metadata": {
    "collapsed": false
   },
   "outputs": [
    {
     "name": "stdout",
     "output_type": "stream",
     "text": [
      "result: 26241 (15.31s)\n"
     ]
    }
   ],
   "source": [
    "from euler import Seq, timer, is_prime\n",
    "\n",
    "def p058():\n",
    "    primes, total, size = 0, 1, 3\n",
    "    while True:\n",
    "        primes += (range(4) \n",
    "                   >> Seq.map(lambda n: size*size - n*(size-1)) \n",
    "                   >> Seq.filter(is_prime) \n",
    "                   >> Seq.length)\n",
    "        total += 4\n",
    "        if primes * 10 < total: break\n",
    "        size += 2        \n",
    "    return size\n",
    "    \n",
    "timer(p058)"
   ]
  },
  {
   "cell_type": "markdown",
   "metadata": {},
   "source": [
    "### XOR decryption\n",
    "#### Problem 59\n",
    "Each character on a computer is assigned a unique code and the preferred standard is ASCII (American Standard Code for Information Interchange). For example, uppercase A = 65, asterisk (*) = 42, and lowercase k = 107.\n",
    "\n",
    "A modern encryption method is to take a text file, convert the bytes to ASCII, then XOR each byte with a given value, taken from a secret key. The advantage with the XOR function is that using the same encryption key on the cipher text, restores the plain text; for example, 65 XOR 42 = 107, then 107 XOR 42 = 65.\n",
    "\n",
    "For unbreakable encryption, the key is the same length as the plain text message, and the key is made up of random bytes. The user would keep the encrypted message and the encryption key in different locations, and without both \"halves\", it is impossible to decrypt the message.\n",
    "\n",
    "Unfortunately, this method is impractical for most users, so the modified method is to use a password as a key. If the password is shorter than the message, which is likely, the key is repeated cyclically throughout the message. The balance for this method is using a sufficiently long password key for security, but short enough to be memorable.\n",
    "\n",
    "Your task has been made easy, as the encryption key consists of three lower case characters. Using cipher1.txt (right click and 'Save Link/Target As...'), a file containing the encrypted ASCII codes, and the knowledge that the plain text must contain common English words, decrypt the message and find the sum of the ASCII values in the original text."
   ]
  },
  {
   "cell_type": "code",
   "execution_count": 433,
   "metadata": {
    "collapsed": false
   },
   "outputs": [
    {
     "name": "stdout",
     "output_type": "stream",
     "text": [
      "result: 107359 (3.08s)\n"
     ]
    }
   ],
   "source": [
    "from euler import Seq, timer\n",
    "import string\n",
    "from operator import add\n",
    "from itertools import product\n",
    "\n",
    "def p059():\n",
    "\n",
    "    cipher_text = open('data/p059.txt').read().split(',') >> Seq.map(int) >> Seq.toList\n",
    "    printable_chars = [ord(c) for c in string.printable]\n",
    "    is_valid_char =  lambda c: c in printable_chars\n",
    "\n",
    "    def try_decipher(encrypted, key):\n",
    "        decrypted = (encrypted \n",
    "                     >> Seq.mapi(lambda (i,b): b^key[i%len(key)])\n",
    "                     >> Seq.toList)\n",
    "        if (decrypted >> Seq.forall(is_valid_char)):\n",
    "            msg = decrypted >> Seq.map(chr) >> Seq.reduce(add)\n",
    "            return sum(decrypted) if ' the ' in msg else None\n",
    "        else:\n",
    "            None\n",
    "        \n",
    "    return (\n",
    "        product(range(97,123),range(97,123),range(97,123))\n",
    "        >> Seq.map(bytearray)\n",
    "        >> Seq.map(lambda key: try_decipher(cipher_text, key))\n",
    "        >> Seq.find(lambda x: x is not None))  \n",
    "\n",
    "timer(p059)"
   ]
  },
  {
   "cell_type": "markdown",
   "metadata": {},
   "source": [
    "### Prime pair sets\n",
    "#### Problem 60\n",
    "The primes 3, 7, 109, and 673, are quite remarkable. By taking any two primes and concatenating them in any order the result will always be prime. For example, taking 7 and 109, both 7109 and 1097 are prime. The sum of these four primes, 792, represents the lowest sum for a set of four primes with this property.\n",
    "\n",
    "Find the lowest sum for a set of five primes for which any two primes concatenate to produce another prime."
   ]
  },
  {
   "cell_type": "code",
   "execution_count": 81,
   "metadata": {
    "collapsed": false
   },
   "outputs": [
    {
     "name": "stdout",
     "output_type": "stream",
     "text": [
      "result: 26033 (38.19s)\n"
     ]
    }
   ],
   "source": [
    "from euler import Seq, timer, prime, PrimeQ, PrimePi, is_prime\n",
    "\n",
    "def p060():\n",
    "    test_pair = lambda a,b: is_prime(int(str(a) + str(b))) and is_prime(int(str(b) + str(a)))\n",
    "\n",
    "    # assuming answer will be under 10k\n",
    "    max_n = PrimePi(10000)\n",
    "\n",
    "    init = [([prime(a)], a) for a in range(4,max_n+1)]\n",
    "\n",
    "    next = lambda (prior, a): (range(a+1, max_n+1)\n",
    "                               >> Seq.map(lambda b: ([prime(b)] + prior, b))\n",
    "                               >> Seq.filter(lambda (s,_): s[1:] \n",
    "                                             >> Seq.forall(lambda x: test_pair(s[0], x))))\n",
    "\n",
    "    return (init\n",
    "            >> Seq.collect(next)\n",
    "            >> Seq.collect(next)\n",
    "            >> Seq.collect(next)\n",
    "            >> Seq.collect(next)\n",
    "            >> Seq.head\n",
    "            >> Seq.head\n",
    "            >> Seq.sum)\n",
    "    \n",
    "timer(p060)"
   ]
  }
 ],
 "metadata": {
  "anaconda-cloud": {},
  "kernelspec": {
   "display_name": "Python [Root]",
   "language": "python",
   "name": "Python [Root]"
  },
  "language_info": {
   "codemirror_mode": {
    "name": "ipython",
    "version": 2
   },
   "file_extension": ".py",
   "mimetype": "text/x-python",
   "name": "python",
   "nbconvert_exporter": "python",
   "pygments_lexer": "ipython2",
   "version": "2.7.12"
  }
 },
 "nbformat": 4,
 "nbformat_minor": 0
}
