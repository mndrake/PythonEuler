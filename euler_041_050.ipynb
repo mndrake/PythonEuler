{
 "cells": [
  {
   "cell_type": "markdown",
   "metadata": {},
   "source": [
    "### Pandigital prime\n",
    "#### Problem 41\n",
    "We shall say that an n-digit number is pandigital if it makes use of all the digits 1 to n exactly once. For example, 2143 is a 4-digit pandigital and is also prime.\n",
    "\n",
    "What is the largest n-digit pandigital prime that exists?"
   ]
  },
  {
   "cell_type": "code",
   "execution_count": 57,
   "metadata": {
    "collapsed": false
   },
   "outputs": [
    {
     "name": "stdout",
     "output_type": "stream",
     "text": [
      "result: 7652413 (1.61s)\n"
     ]
    }
   ],
   "source": [
    "from euler import Seq, timer, is_prime\n",
    "from itertools import permutations\n",
    "\n",
    "def p041():\n",
    "    k = 9\n",
    "    results = []\n",
    "    while results == []:\n",
    "        results = (permutations(range(1, k+1) >> Seq.map(str))\n",
    "                   >> Seq.map(lambda x: int(\"\".join(x)))\n",
    "                   >> Seq.filter(is_prime)\n",
    "                   >> Seq.toList)\n",
    "        k-=1    \n",
    "    return max(results)\n",
    "\n",
    "timer(p041)"
   ]
  },
  {
   "cell_type": "markdown",
   "metadata": {},
   "source": [
    "### Coded triangle numbers\n",
    "#### Problem 42\n",
    "The nth term of the sequence of triangle numbers is given by, $t_n = \\frac 1 2 n(n+1)$; so the first ten triangle numbers are:  \n",
    "\n",
    "$1, 3, 6, 10, 15, 21, 28, 36, 45, 55, ...$  \n",
    "\n",
    "By converting each letter in a word to a number corresponding to its alphabetical position and adding these values we form a word value. For example, the word value for SKY is $19 + 11 + 25 = 55 = t_{10}$. If the word value is a triangle number then we shall call the word a triangle word.  \n",
    "\n",
    "Using words.txt (right click and 'Save Link/Target As...'), a 16K text file containing nearly two-thousand common English words, how many are triangle words?  "
   ]
  },
  {
   "cell_type": "code",
   "execution_count": 129,
   "metadata": {
    "collapsed": false
   },
   "outputs": [
    {
     "name": "stdout",
     "output_type": "stream",
     "text": [
      "result: 162 (0.02s)\n"
     ]
    }
   ],
   "source": [
    "from euler import Seq, timer\n",
    "import re\n",
    "\n",
    "def p042():\n",
    "    \n",
    "    words = re.compile('[A-Z]+').findall(open('data/p042.txt').read())    \n",
    "    scores = words >> Seq.map(lambda x: x >> Seq.sumBy(lambda x: ord(x) - 64)) >> Seq.toList\n",
    "    \n",
    "    max_score = max(scores)\n",
    "\n",
    "    tri_numbers = (\n",
    "        Seq.initInfinite(lambda x: x*(x+1)/2) \n",
    "        >> Seq.skip(1)\n",
    "        >> Seq.takeWhile(lambda x: x < max_score)\n",
    "        >> Seq.toList)\n",
    "\n",
    "    is_tri = lambda n: n == (tri_numbers >> Seq.find(lambda k: k >= n))\n",
    "\n",
    "    return (\n",
    "        scores\n",
    "        >> Seq.filter(is_tri)\n",
    "        >> Seq.length)\n",
    "\n",
    "timer(p042)"
   ]
  },
  {
   "cell_type": "markdown",
   "metadata": {},
   "source": [
    "### Sub-string divisibility\n",
    "#### Problem 43\n",
    "The number, $1406357289$, is a $0$ to $9$ pandigital number because it is made up of each of the digits $0$ to $9$ in some order, but it also has a rather interesting sub-string divisibility property.  \n",
    "\n",
    "Let $d_1$ be the 1st digit, $d_2$ be the 2nd digit, and so on. In this way, we note the following:  \n",
    "\n",
    "$d_2d_3d_4=406$ is divisible by 2  \n",
    "$d_3d_4d_5=063$ is divisible by 3  \n",
    "$d_4d_5d_6=635$ is divisible by 5  \n",
    "$d_5d_6d_7=357$ is divisible by 7  \n",
    "$d_6d_7d_8=572$ is divisible by 11  \n",
    "$d_7d_8d_9=728$ is divisible by 13  \n",
    "$d_8d_9d_{10}=289$ is divisible by 17  \n",
    "\n",
    "Find the sum of all $0$ to $9$ pandigital numbers with this property."
   ]
  },
  {
   "cell_type": "code",
   "execution_count": 150,
   "metadata": {
    "collapsed": false
   },
   "outputs": [
    {
     "name": "stdout",
     "output_type": "stream",
     "text": [
      "result: 16695334890 (7.12s)\n"
     ]
    }
   ],
   "source": [
    "from euler import Seq, timer\n",
    "from itertools import permutations\n",
    "\n",
    "def p043():\n",
    "    def test(n):\n",
    "        return (n[0] <> '0' and\n",
    "            int(n[1:4]) % 2 == 0 and\n",
    "            int(n[2:5]) % 3 == 0 and\n",
    "            int(n[3:6]) % 5 == 0 and\n",
    "            int(n[4:7]) % 7 == 0 and\n",
    "            int(n[5:8]) % 11 == 0 and\n",
    "            int(n[6:9]) % 13 == 0 and\n",
    "            int(n[7:10]) % 17 == 0)\n",
    "\n",
    "    return (\n",
    "        permutations(range(10) >> Seq.map(str))\n",
    "        >> Seq.map(lambda x: \"\".join(x))\n",
    "        >> Seq.filter(test)\n",
    "        >> Seq.sumBy(int))\n",
    "\n",
    "timer(p043)"
   ]
  },
  {
   "cell_type": "markdown",
   "metadata": {},
   "source": [
    "### Pentagon numbers\n",
    "#### Problem 44\n",
    "Pentagonal numbers are generated by the formula, $P_n=n(3n−1)/2$. The first ten pentagonal numbers are:  \n",
    "\n",
    "$1, 5, 12, 22, 35, 51, 70, 92, 117, 145, ...$  \n",
    "\n",
    "It can be seen that $P_4 + P_7 = 22 + 70 = 92 = P_8$. However, their difference, $70 − 22 = 48$, is not pentagonal.\n",
    "\n",
    "Find the pair of pentagonal numbers, $P_j$ and $P_k$, for which their sum and difference are pentagonal and $D = |Pk − Pj|$ is minimised; what is the value of $D$?"
   ]
  },
  {
   "cell_type": "code",
   "execution_count": 5,
   "metadata": {
    "collapsed": false
   },
   "outputs": [
    {
     "name": "stdout",
     "output_type": "stream",
     "text": [
      "result: 5482660 (3.76s)\n"
     ]
    }
   ],
   "source": [
    "from euler import Seq, timer\n",
    "\n",
    "def p044():\n",
    "    pentagonals = (\n",
    "        Seq.initInfinite(lambda i: i*(3*i-1)/2)\n",
    "        >> Seq.skip(1)\n",
    "        >> Seq.takeWhile(lambda n: n < 10000000)\n",
    "        >> Seq.toSet)\n",
    "\n",
    "    # assuming that pj and pk are under 10M\n",
    "    return (\n",
    "        pentagonals \n",
    "        >> Seq.collect(lambda j: pentagonals >> Seq.map(lambda k: (j,k)))\n",
    "        >> Seq.filter(lambda (j,k): (j+k) in pentagonals)\n",
    "        >> Seq.filter(lambda (j,k): (k-j) in pentagonals)\n",
    "        >> Seq.map(lambda (j,k): k-j)\n",
    "        >> Seq.min)\n",
    "\n",
    "timer(p044)"
   ]
  },
  {
   "cell_type": "markdown",
   "metadata": {},
   "source": [
    "### Triangular, pentagonal, and hexagonal\n",
    "#### Problem 45\n",
    "Triangle, pentagonal, and hexagonal numbers are generated by the following formulae:  \n",
    "\n",
    "|            |                |                       |\n",
    "| ---------- | -------------- | --------------------- |\n",
    "| Triangle\t | $T_n=n(n+1)/2$  |\t1, 3, 6, 10, 15, ...  |\n",
    "| Pentagonal | $P_n=n(3n−1)/2$ | 1, 5, 12, 22, 35, ... |\n",
    "| Hexagonal\t | $H_n=n(2n−1)$\t  |\t1, 6, 15, 28, 45, ... |  \n",
    "\n",
    "It can be verified that $T_{285} = P_{165} = H_{143} = 40755$. \n",
    "\n",
    "Find the next triangle number that is also pentagonal and hexagonal."
   ]
  },
  {
   "cell_type": "code",
   "execution_count": 13,
   "metadata": {
    "collapsed": false
   },
   "outputs": [
    {
     "name": "stdout",
     "output_type": "stream",
     "text": [
      "result: 1533776805 (0.22s)\n"
     ]
    }
   ],
   "source": [
    "from euler import Seq, timer\n",
    "\n",
    "def p045():\n",
    "\n",
    "    maxN = 10000000000\n",
    "\n",
    "    hexs = (Seq.initInfinite(lambda i: i*(2*i-1)) \n",
    "            >> Seq.skipWhile(lambda n: n <= 40755) \n",
    "            >> Seq.takeWhile(lambda n: n < maxN) \n",
    "            >> Seq.toSet)\n",
    "\n",
    "    pents = (Seq.initInfinite(lambda i: i*(3*i-1)/2) \n",
    "             >> Seq.skipWhile(lambda n: n <= 40755)\n",
    "             >> Seq.takeWhile(lambda n: n < maxN)\n",
    "             >> Seq.toSet)\n",
    "\n",
    "    tris = (Seq.initInfinite(lambda i: i*(i+1)/2) \n",
    "            >> Seq.skipWhile(lambda n: n <= 40755) \n",
    "            >> Seq.takeWhile(lambda n: n < maxN) \n",
    "            >> Seq.toSet)\n",
    "\n",
    "    return hexs.intersection(pents).intersection(tris).pop()\n",
    "\n",
    "timer(p045)"
   ]
  },
  {
   "cell_type": "markdown",
   "metadata": {},
   "source": [
    "### Goldbach's other conjecture\n",
    "#### Problem 46\n",
    "It was proposed by Christian Goldbach that every odd composite number can be written as the sum of a prime and twice a square.  \n",
    "\n",
    "$9 = 7 + 2×1^2$  \n",
    "$15 = 7 + 2×2^2$  \n",
    "$21 = 3 + 2×3^2$  \n",
    "$25 = 7 + 2×3^2$  \n",
    "$27 = 19 + 2×2^2$  \n",
    "$33 = 31 + 2×1^2$  \n",
    "\n",
    "It turns out that the conjecture was false.  \n",
    "\n",
    "What is the smallest odd composite that cannot be written as the sum of a prime and twice a square?"
   ]
  },
  {
   "cell_type": "code",
   "execution_count": 37,
   "metadata": {
    "collapsed": false
   },
   "outputs": [
    {
     "name": "stdout",
     "output_type": "stream",
     "text": [
      "result: 5777 (0.26s)\n"
     ]
    }
   ],
   "source": [
    "from euler import Seq, timer, primes, is_prime\n",
    "from math import sqrt\n",
    "\n",
    "def p046():\n",
    "    def is_square(n):\n",
    "        t = int(sqrt(n))\n",
    "        return n == t*t\n",
    "\n",
    "    def valid(n):\n",
    "        return (primes()\n",
    "                >> Seq.takeWhile(lambda k: k < n) \n",
    "                >> Seq.exists(lambda k: is_square((n-k)/2)))\n",
    "\n",
    "    return (\n",
    "        Seq.initInfinite(lambda k: k*2+9) \n",
    "        >> Seq.filter(lambda k: not(is_prime(k))) \n",
    "        >> Seq.find(lambda k: not(valid(k))))\n",
    "\n",
    "timer(p046)"
   ]
  },
  {
   "cell_type": "markdown",
   "metadata": {},
   "source": [
    "### Distinct primes factors\n",
    "#### Problem 47\n",
    "The first two consecutive numbers to have two distinct prime factors are:  \n",
    "\n",
    "$14 = 2 × 7$  \n",
    "$15 = 3 × 5$  \n",
    "\n",
    "The first three consecutive numbers to have three distinct prime factors are:  \n",
    "\n",
    "$644 = 2^2 × 7 × 23$  \n",
    "$645 = 3 × 5 × 43$  \n",
    "$646 = 2 × 17 × 19$.\n",
    "\n",
    "Find the first four consecutive integers to have four distinct prime factors. What is the first of these numbers?"
   ]
  },
  {
   "cell_type": "code",
   "execution_count": 56,
   "metadata": {
    "collapsed": false
   },
   "outputs": [
    {
     "name": "stdout",
     "output_type": "stream",
     "text": [
      "result: 134043 (5.48s)\n"
     ]
    }
   ],
   "source": [
    "from euler import FactorInteger, timer, Seq\n",
    "\n",
    "def p047():\n",
    "    len = 4\n",
    "\n",
    "    return (\n",
    "        Seq.initInfinite(lambda x: x) \n",
    "        >> Seq.map(lambda n: FactorInteger(n) >> Seq.length) \n",
    "        >> Seq.window(len)\n",
    "        >> Seq.findIndex(lambda xs: xs >> Seq.forall(lambda x: x == len)))\n",
    "\n",
    "timer(p047)"
   ]
  },
  {
   "cell_type": "markdown",
   "metadata": {},
   "source": [
    "### Self powers\n",
    "#### Problem 48\n",
    "The series, $1^1 + 2^2 + 3^3 + ... + 10^{10} = 10405071317$.  \n",
    "\n",
    "Find the last ten digits of the series, $1^1 + 2^2 + 3^3 + ... + 1000^{1000}$."
   ]
  },
  {
   "cell_type": "code",
   "execution_count": 60,
   "metadata": {
    "collapsed": false
   },
   "outputs": [
    {
     "name": "stdout",
     "output_type": "stream",
     "text": [
      "result: 9110846700 (0.01s)\n"
     ]
    }
   ],
   "source": [
    "from euler import timer\n",
    "\n",
    "def p048():\n",
    "    return (range(1,1001) >> Seq.sumBy(lambda i: i ** i)) % (10 ** 10)\n",
    "\n",
    "timer(p048)"
   ]
  },
  {
   "cell_type": "code",
   "execution_count": 52,
   "metadata": {
    "collapsed": false
   },
   "outputs": [
    {
     "data": {
      "text/plain": [
       "val it : Numerics.BigInteger = 9110846700 {IsEven = true;\r\n",
       "                                           IsOne = false;\r\n",
       "                                           IsPowerOfTwo = false;\r\n",
       "                                           IsZero = false;\r\n",
       "                                           Sign = 1;}"
      ]
     },
     "execution_count": 52,
     "metadata": {},
     "output_type": "execute_result"
    }
   ],
   "source": [
    "[ 1 .. 1000 ]\n",
    "|> Seq.sumBy (fun i -> pown (bigint i) i)\n",
    "|> fun n -> n%(pown 10I 10)"
   ]
  },
  {
   "cell_type": "markdown",
   "metadata": {},
   "source": [
    "### Prime permutations\n",
    "#### Problem 49\n",
    "The arithmetic sequence, $1487$, $4817$, $8147$, in which each of the terms increases by $3330$, is unusual in two ways: (i) each of the three terms are prime, and, (ii) each of the 4-digit numbers are permutations of one another.\n",
    "\n",
    "There are no arithmetic sequences made up of three 1-, 2-, or 3-digit primes, exhibiting this property, but there is one other 4-digit increasing sequence.\n",
    "\n",
    "What 12-digit number do you form by concatenating the three terms in this sequence?"
   ]
  },
  {
   "cell_type": "code",
   "execution_count": 14,
   "metadata": {
    "collapsed": false
   },
   "outputs": [
    {
     "name": "stdout",
     "output_type": "stream",
     "text": [
      "result: 296962999629 (0.06s)\n"
     ]
    }
   ],
   "source": [
    "from euler import Seq, timer, is_prime, primes\n",
    "from itertools import permutations, combinations\n",
    "\n",
    "def p049():\n",
    "\n",
    "    def get_prime_permutations(n):\n",
    "        return (permutations(str(n) >> Seq.map(str))\n",
    "                >> Seq.toSet\n",
    "                >> Seq.map(lambda chars: int(\"\".join(chars)))\n",
    "                >> Seq.filter(lambda x: x >= 1000 and is_prime(x))\n",
    "                >> Seq.sort\n",
    "                >> Seq.toList)\n",
    "\n",
    "    return (\n",
    "        int(\"\".join(\n",
    "                primes()\n",
    "                >> Seq.map(get_prime_permutations)\n",
    "                >> Seq.filter(lambda l: l >> Seq.length >= 3)\n",
    "                >> Seq.collect(lambda l: combinations(l,3) >> Seq.filter(lambda x: (x[1]-x[0]) == (x[2]-x[1])))\n",
    "                >> Seq.distinct\n",
    "                >> Seq.nth(1)\n",
    "                >> Seq.map(str))))\n",
    "\n",
    "timer(p049)"
   ]
  },
  {
   "cell_type": "markdown",
   "metadata": {},
   "source": [
    "### Consecutive prime sum\n",
    "#### Problem 50\n",
    "The prime $41$, can be written as the sum of six consecutive primes:  \n",
    "\n",
    "$41 = 2 + 3 + 5 + 7 + 11 + 13$  \n",
    "\n",
    "This is the longest sum of consecutive primes that adds to a prime below one-hundred.  \n",
    "\n",
    "The longest sum of consecutive primes below one-thousand that adds to a prime, contains $21$ terms, and is equal to $953$.  \n",
    "\n",
    "Which prime, below one-million, can be written as the sum of the most consecutive primes?"
   ]
  },
  {
   "cell_type": "code",
   "execution_count": 17,
   "metadata": {
    "collapsed": false
   },
   "outputs": [
    {
     "name": "stdout",
     "output_type": "stream",
     "text": [
      "result: 997651 (0.03s)\n"
     ]
    }
   ],
   "source": [
    "from euler import primes, Seq, fst, is_prime, primes, timer\n",
    "\n",
    "def p050():\n",
    "    def max_prime(skip):\n",
    "        return (\n",
    "            primes()\n",
    "            >> Seq.skip(skip)\n",
    "            >> Seq.scan(lambda state, n: (1+state[0], n+state[1]), (0,0))\n",
    "            >> Seq.takeWhile(lambda n: n[1] < 1000000)\n",
    "            >> Seq.filter(lambda n: is_prime(n[1]))\n",
    "            >> Seq.maxBy(fst))\n",
    "\n",
    "    def loop(k,result):\n",
    "        test = primes() >> Seq.skip(k) >> Seq.take(result[0]) >> Seq.sum\n",
    "        if (test > 1000000):\n",
    "            return result[1]\n",
    "        else:\n",
    "            r = [max_prime(k), result] >> Seq.maxBy(fst)\n",
    "            return loop(k+1, r)\n",
    "\n",
    "    return loop(1, max_prime(0))\n",
    "\n",
    "timer(p050)"
   ]
  }
 ],
 "metadata": {
  "anaconda-cloud": {},
  "kernelspec": {
   "display_name": "Python [Root]",
   "language": "python",
   "name": "Python [Root]"
  },
  "language_info": {
   "codemirror_mode": {
    "name": "ipython",
    "version": 2
   },
   "file_extension": ".py",
   "mimetype": "text/x-python",
   "name": "python",
   "nbconvert_exporter": "python",
   "pygments_lexer": "ipython2",
   "version": "2.7.12"
  }
 },
 "nbformat": 4,
 "nbformat_minor": 0
}
