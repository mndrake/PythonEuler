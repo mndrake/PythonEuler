{
 "cells": [
  {
   "cell_type": "markdown",
   "metadata": {},
   "source": [
    "### Amicable numbers\n",
    "#### Problem 21\n",
    "Let d(n) be defined as the sum of proper divisors of n (numbers less than n which divide evenly into n).\n",
    "If d(a) = b and d(b) = a, where a ≠ b, then a and b are an amicable pair and each of a and b are called amicable numbers.\n",
    "\n",
    "For example, the proper divisors of 220 are 1, 2, 4, 5, 10, 11, 20, 22, 44, 55 and 110; therefore d(220) = 284. The proper divisors of 284 are 1, 2, 4, 71 and 142; so d(284) = 220.\n",
    "\n",
    "Evaluate the sum of all the amicable numbers under 10000."
   ]
  },
  {
   "cell_type": "code",
   "execution_count": 1,
   "metadata": {
    "collapsed": false
   },
   "outputs": [
    {
     "name": "stdout",
     "output_type": "stream",
     "text": [
      "result: 31626 (0.43s)\n"
     ]
    }
   ],
   "source": [
    "from euler import timer, Seq\n",
    "from math import sqrt\n",
    "\n",
    "def d(n):\n",
    "    return (range(2, int(sqrt(n))+1)\n",
    "             >> Seq.filter (lambda x: n%x == 0)\n",
    "             >> Seq.map (lambda x: x if x*x == n else n/x + x)\n",
    "             >> Seq.sum) + 1\n",
    "\n",
    "def isAmicable(a):\n",
    "    b = d(a)\n",
    "    return (a == d(b)) and (a <> b)\n",
    "\n",
    "def p021():\n",
    "    return (range(1, 10001)\n",
    "             >> Seq.filter(isAmicable)\n",
    "             >> Seq.sum)\n",
    "\n",
    "timer(p021)"
   ]
  },
  {
   "cell_type": "markdown",
   "metadata": {},
   "source": [
    "### Names scores\n",
    "#### Problem 22\n",
    "Using names.txt (right click and 'Save Link/Target As...'), a 46K text file containing over five-thousand first names, begin by sorting it into alphabetical order. Then working out the alphabetical value for each name, multiply this value by its alphabetical position in the list to obtain a name score.\n",
    "\n",
    "For example, when the list is sorted into alphabetical order, COLIN, which is worth 3 + 15 + 12 + 9 + 14 = 53, is the 938th name in the list. So, COLIN would obtain a score of 938 × 53 = 49714.\n",
    "\n",
    "What is the total of all the name scores in the file?"
   ]
  },
  {
   "cell_type": "code",
   "execution_count": 2,
   "metadata": {
    "collapsed": false
   },
   "outputs": [
    {
     "name": "stdout",
     "output_type": "stream",
     "text": [
      "result: 871198282 (0.04s)\n"
     ]
    }
   ],
   "source": [
    "from euler import timer, Seq\n",
    "\n",
    "def score(s): \n",
    "    return s >> Seq.map(lambda x: ord(x) - 64) >> Seq.sum\n",
    "    \n",
    "def p022():\n",
    "    return (\n",
    "        open('data/p022.txt').read().split(',')\n",
    "        >> Seq.map(lambda x: x.strip('\"'))\n",
    "        >> Seq.sort\n",
    "        >> Seq.mapi(lambda (i,x): score(x)*(i+1))\n",
    "        >> Seq.sum)\n",
    "\n",
    "timer(p022)"
   ]
  },
  {
   "cell_type": "markdown",
   "metadata": {},
   "source": [
    "### Non-abundant sums\n",
    "#### Problem 23\n",
    "A perfect number is a number for which the sum of its proper divisors is exactly equal to the number. For example, the sum of the proper divisors of 28 would be $1 + 2 + 4 + 7 + 14 = 28$, which means that 28 is a perfect number.\n",
    "\n",
    "A number n is called deficient if the sum of its proper divisors is less than n and it is called abundant if this sum exceeds n.\n",
    "\n",
    "As 12 is the smallest abundant number, $1 + 2 + 3 + 4 + 6 = 16$, the smallest number that can be written as the sum of two abundant numbers is 24. By mathematical analysis, it can be shown that all integers greater than 28123 can be written as the sum of two abundant numbers. However, this upper limit cannot be reduced any further by analysis even though it is known that the greatest number that cannot be expressed as the sum of two abundant numbers is less than this limit.\n",
    "\n",
    "\n",
    "Find the sum of all the positive integers which cannot be written as the sum of two abundant numbers."
   ]
  },
  {
   "cell_type": "code",
   "execution_count": 3,
   "metadata": {
    "collapsed": false
   },
   "outputs": [
    {
     "name": "stdout",
     "output_type": "stream",
     "text": [
      "result: 4179871 (13.92s)\n"
     ]
    }
   ],
   "source": [
    "from euler import FactorInteger, Seq, timer\n",
    "from operator import mul\n",
    "\n",
    "def divisor_sum(n):\n",
    "    return (\n",
    "        FactorInteger(n) \n",
    "        >> Seq.map(lambda (p,a): (p**(a+1) - 1)/(p-1)) \n",
    "        >> Seq.reduce(mul)\n",
    "        ) - n\n",
    "\n",
    "def p023():\n",
    "    max_n = 28123\n",
    "    abundants = range(12, max_n+1) >> Seq.filter(lambda n: n < divisor_sum(n)) >> Seq.toList\n",
    "    abundant_sums = (abundants \n",
    "                     >> Seq.collect(lambda a: abundants  \n",
    "                                               >> Seq.map(lambda b: a+b)\n",
    "                                               >> Seq.takeWhile(lambda x: x < (max_n+1)))\n",
    "                     >> Seq.toSet)\n",
    "    return max_n * (max_n + 1) / 2 - sum(abundant_sums)\n",
    "\n",
    "timer(p023)"
   ]
  },
  {
   "cell_type": "markdown",
   "metadata": {},
   "source": [
    "### Lexicographic permutations\n",
    "#### Problem 24\n",
    "A permutation is an ordered arrangement of objects. For example, 3124 is one possible permutation of the digits 1, 2, 3 and 4. If all of the permutations are listed numerically or alphabetically, we call it lexicographic order. The lexicographic permutations of 0, 1 and 2 are:\n",
    "\n",
    "012 021 102 120 201 210\n",
    "\n",
    "What is the millionth lexicographic permutation of the digits 0, 1, 2, 3, 4, 5, 6, 7, 8 and 9?"
   ]
  },
  {
   "cell_type": "code",
   "execution_count": 4,
   "metadata": {
    "collapsed": false
   },
   "outputs": [
    {
     "name": "stdout",
     "output_type": "stream",
     "text": [
      "result: 2783915460 (0.00s)\n"
     ]
    }
   ],
   "source": [
    "from math import factorial\n",
    "from euler import timer\n",
    "\n",
    "def p024():\n",
    "    numbers = range(10)\n",
    "\n",
    "    def loop(remainder, acc):\n",
    "        k = len(numbers) - 1\n",
    "        if k==0:\n",
    "            return acc + str(numbers[0])\n",
    "        else:\n",
    "            next = numbers[remainder / factorial(k)]\n",
    "            numbers.remove(next)\n",
    "            return loop((remainder%(factorial(k))),(acc + str(next)))\n",
    "\n",
    "    return loop(999999,\"\")\n",
    "\n",
    "timer(p024)"
   ]
  },
  {
   "cell_type": "markdown",
   "metadata": {},
   "source": [
    "### 1000-digit Fibonacci number\n",
    "#### Problem 25\n",
    "The Fibonacci sequence is defined by the recurrence relation:\n",
    "\n",
    "$F_n = F_{n−1} + F_{n−2}$, where $F_1 = 1$ and $F_2 = 1$.\n",
    "Hence the first 12 terms will be:\n",
    "\n",
    "$F_1 = 1$  \n",
    "$F_2 = 1$  \n",
    "$F_3 = 2$  \n",
    "$F_4 = 3$  \n",
    "$F_5 = 5$  \n",
    "$F_6 = 8$  \n",
    "$F_7 = 13$  \n",
    "$F_8 = 21$  \n",
    "$F_9 = 34$  \n",
    "$F_{10} = 55$  \n",
    "$F_{11} = 89$  \n",
    "$F_{12} = 144$  \n",
    "The 12th term, $F_{12}$, is the first term to contain three digits.  \n",
    "\n",
    "What is the first term in the Fibonacci sequence to contain 1000 digits?"
   ]
  },
  {
   "cell_type": "code",
   "execution_count": 5,
   "metadata": {
    "collapsed": false
   },
   "outputs": [
    {
     "name": "stdout",
     "output_type": "stream",
     "text": [
      "result: 4782 (0.01s)\n"
     ]
    }
   ],
   "source": [
    "from math import log10\n",
    "from euler import timer, Seq\n",
    "\n",
    "def p025():\n",
    "    return (\n",
    "        Seq.unfold(lambda (a,b):(b, (b,a+b)), (0,1)) \n",
    "        >> Seq.findIndex(lambda x: log10(x) > 999)\n",
    "    ) + 1\n",
    "\n",
    "timer(p025)"
   ]
  },
  {
   "cell_type": "markdown",
   "metadata": {},
   "source": [
    "### Reciprocal cycles\n",
    "#### Problem 26\n",
    "A unit fraction contains 1 in the numerator. The decimal representation of the unit fractions with denominators 2 to 10 are given:  \n",
    "\n",
    "1/2\t= \t0.5  \n",
    "1/3\t= \t0.(3)  \n",
    "1/4\t= \t0.25  \n",
    "1/5\t= \t0.2  \n",
    "1/6\t= \t0.1(6)  \n",
    "1/7\t= \t0.(142857)  \n",
    "1/8\t= \t0.125  \n",
    "1/9\t= \t0.(1)  \n",
    "1/10\t= \t0.1  \n",
    "Where 0.1(6) means 0.166666..., and has a 1-digit recurring cycle. It can be seen that 1/7 has a 6-digit recurring cycle.  \n",
    "\n",
    "Find the value of d < 1000 for which 1/d contains the longest recurring cycle in its decimal fraction part."
   ]
  },
  {
   "cell_type": "code",
   "execution_count": 6,
   "metadata": {
    "collapsed": false
   },
   "outputs": [
    {
     "name": "stdout",
     "output_type": "stream",
     "text": [
      "result: 983 (0.30s)\n"
     ]
    }
   ],
   "source": [
    "from euler import timer, Seq\n",
    "\n",
    "def cycle(denom):\n",
    "    if denom==2 or denom==5:\n",
    "        return 0\n",
    "    elif denom%2==0:\n",
    "        return cycle(denom/2)\n",
    "    elif denom%5==0:\n",
    "        return cycle(denom/5)\n",
    "    else:\n",
    "        return (\n",
    "            Seq.initInfinite(lambda x: x+1)\n",
    "            >> Seq.map (lambda x: 10 ** x - 1)\n",
    "            >> Seq.findIndex(lambda x: x%denom==0)\n",
    "            ) + 1\n",
    "\n",
    "def p026():\n",
    "    return range(1, 1001) >> Seq.maxBy(cycle)\n",
    "\n",
    "timer(p026)"
   ]
  },
  {
   "cell_type": "markdown",
   "metadata": {},
   "source": [
    "### Quadratic primes\n",
    "#### Problem 27\n",
    "Euler discovered the remarkable quadratic formula:\n",
    "\n",
    "$n^2 + n + 41$  \n",
    "\n",
    "It turns out that the formula will produce $40$ primes for the consecutive values $n = 0$ to $39$. However, when $n = 40$, $40^2 + 40 + 41 = 40(40 + 1) + 41$ is divisible by $41$, and certainly when $n = 41$, $41^2 + 41 + 41$ is clearly divisible by $41$.\n",
    "\n",
    "The incredible formula  $n^2 − 79n + 1601$ was discovered, which produces $80$ primes for the consecutive values $n = 0$ to $79$. The product of the coefficients, $−79$ and $1601$, is $−126479$.\n",
    "\n",
    "Considering quadratics of the form:\n",
    "\n",
    "$n^2 + an + b$, where $|a| < 1000$ and $|b| < 1000$\n",
    "\n",
    "where $|n|$ is the modulus/absolute value of $n$\n",
    "e.g. $|11| = 11$ and $|−4| = 4$\n",
    "Find the product of the coefficients, $a$ and $b$, for the quadratic expression that produces the maximum number of primes for consecutive values of $n$, starting with $n = 0$."
   ]
  },
  {
   "cell_type": "code",
   "execution_count": 7,
   "metadata": {
    "collapsed": false
   },
   "outputs": [
    {
     "name": "stdout",
     "output_type": "stream",
     "text": [
      "result: -59231 (6.55s)\n"
     ]
    }
   ],
   "source": [
    "from euler import is_prime, Seq, timer, primes\n",
    "\n",
    "def primes_generated(x):\n",
    "    a,b = x\n",
    "    return (\n",
    "        Seq.initInfinite(lambda n: n*n + a*n + b)\n",
    "        >> Seq.takeWhile(is_prime)\n",
    "        >> Seq.length)\n",
    "\n",
    "def p027():\n",
    "        primes_1000 = (primes() \n",
    "                       >> Seq.takeWhile(lambda x: x<1000) \n",
    "                       >> Seq.toList)\n",
    "        a,b = ([(a,b) for a in range(-999,1000) \n",
    "                      for b in primes_1000]\n",
    "               >> Seq.maxBy(primes_generated))\n",
    "        return a*b\n",
    "               \n",
    "timer(p027)"
   ]
  },
  {
   "cell_type": "markdown",
   "metadata": {},
   "source": [
    "### Number spiral diagonals\n",
    "#### Problem 28\n",
    "Starting with the number 1 and moving to the right in a clockwise direction a 5 by 5 spiral is formed as follows:\n",
    "\n",
    "<font color='red'>21</font> 22 23 24 <font color='red'>25</font>  \n",
    "20 <font color='red'>07</font> 08  <font color='red'>09</font> 10  \n",
    "19 06  <font color='red'>01</font> 02 11  \n",
    "18 <font color='red'>05</font> 04  <font color='red'>03</font> 12  \n",
    "<font color='red'>17</font> 16 15 14 <font color='red'>13</font>  \n",
    "\n",
    "It can be verified that the sum of the numbers on the diagonals is 101.  \n",
    "\n",
    "What is the sum of the numbers on the diagonals in a 1001 by 1001 spiral formed in the same way?"
   ]
  },
  {
   "cell_type": "code",
   "execution_count": 8,
   "metadata": {
    "collapsed": false
   },
   "outputs": [
    {
     "name": "stdout",
     "output_type": "stream",
     "text": [
      "result: 669171001 (0.00s)\n"
     ]
    }
   ],
   "source": [
    "from euler import timer\n",
    "\n",
    "def p028():\n",
    "    n = 1001\n",
    "\n",
    "    def collect(depth, start, acc):\n",
    "        if (depth > n/2):\n",
    "            return acc\n",
    "        else:\n",
    "            return collect(depth+1, start+8*depth, acc+4*start+20*depth)\n",
    "\n",
    "    return collect(1,1,1)\n",
    "\n",
    "timer(p028)"
   ]
  },
  {
   "cell_type": "markdown",
   "metadata": {},
   "source": [
    "### Distinct powers\n",
    "#### Problem 29\n",
    "Consider all integer combinations of $a^b$ for $2 ≤ a ≤ 5$ and $2 ≤ b ≤ 5$:\n",
    "\n",
    "$2^2=4$, $2^3=8$, $2^4=16$, $2^5=32$  \n",
    "$3^2=9$, $3^3=27$, $3^4=81$, $3^5=243$  \n",
    "$4^2=16$, $4^3=64$, $4^4=256$, $4^5=1024$  \n",
    "$5^2=25$, $5^3=125$, $5^4=625$, $5^5=3125$  \n",
    "\n",
    "If they are then placed in numerical order, with any repeats removed, we get the following sequence of 15 distinct terms:\n",
    "\n",
    "$4, 8, 9, 16, 25, 27, 32, 64, 81, 125, 243, 256, 625, 1024, 3125$\n",
    "\n",
    "How many distinct terms are in the sequence generated by $a^b$ for $2 ≤ a ≤ 100$ and $2 ≤ b ≤ 100$?"
   ]
  },
  {
   "cell_type": "code",
   "execution_count": 9,
   "metadata": {
    "collapsed": false
   },
   "outputs": [
    {
     "name": "stdout",
     "output_type": "stream",
     "text": [
      "result: 9183 (0.02s)\n"
     ]
    }
   ],
   "source": [
    "from euler import timer\n",
    "\n",
    "def p029():\n",
    "    return (set(a **b for a in range(2,101) for b in range(2,101))\n",
    "             >> Seq.length)\n",
    "\n",
    "timer(p029)"
   ]
  },
  {
   "cell_type": "markdown",
   "metadata": {},
   "source": [
    "### Digit fifth powers\n",
    "#### Problem 30\n",
    "Surprisingly there are only three numbers that can be written as the sum of fourth powers of their digits:\n",
    "\n",
    "$1634 = 1^4 + 6^4 + 3^4 + 4^4$  \n",
    "$8208 = 8^4 + 2^4 + 0^4 + 8^4$  \n",
    "$9474 = 9^4 + 4^4 + 7^4 + 4^4$  \n",
    "As $1 = 1^4$ is not a sum it is not included.  \n",
    "\n",
    "The sum of these numbers is $1634 + 8208 + 9474 = 19316$.  \n",
    "\n",
    "Find the sum of all the numbers that can be written as the sum of fifth powers of their digits."
   ]
  },
  {
   "cell_type": "code",
   "execution_count": 10,
   "metadata": {
    "collapsed": false
   },
   "outputs": [
    {
     "name": "stdout",
     "output_type": "stream",
     "text": [
      "result: 443839 (2.66s)\n"
     ]
    }
   ],
   "source": [
    "from euler import timer\n",
    "\n",
    "def p030():\n",
    "    def is_sum(n):\n",
    "        return (\n",
    "            str(n)\n",
    "            >> Seq.map(lambda x: int(x) ** 5)\n",
    "            >> Seq.sum\n",
    "        ) == n\n",
    "\n",
    "    max_n = (\n",
    "        ((Seq.unfold(lambda x: (x, x+1), 1)\n",
    "         >> Seq.find(lambda x: 10 ** x - 1 > x * 9 ** 5)\n",
    "        ) - 1) * 9 ** 5)\n",
    "\n",
    "    return (\n",
    "        range(2, max_n + 1)\n",
    "         >> Seq.filter(is_sum)\n",
    "         >> Seq.sum)\n",
    "    \n",
    "timer(p030)"
   ]
  }
 ],
 "metadata": {
  "kernelspec": {
   "display_name": "Python [Root]",
   "language": "python",
   "name": "Python [Root]"
  },
  "language_info": {
   "codemirror_mode": {
    "name": "ipython",
    "version": 2
   },
   "file_extension": ".py",
   "mimetype": "text/x-python",
   "name": "python",
   "nbconvert_exporter": "python",
   "pygments_lexer": "ipython2",
   "version": "2.7.12"
  }
 },
 "nbformat": 4,
 "nbformat_minor": 0
}
