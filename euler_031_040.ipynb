{
 "cells": [
  {
   "cell_type": "markdown",
   "metadata": {},
   "source": [
    "### Coin sums\n",
    "#### Problem 31\n",
    "In England the currency is made up of pound, £, and pence, p, and there are eight coins in general circulation:  \n",
    "\n",
    "1p, 2p, 5p, 10p, 20p, 50p, £1 (100p) and £2 (200p).  \n",
    "It is possible to make £2 in the following way:  \n",
    "\n",
    "1×£1 + 1×50p + 2×20p + 1×5p + 1×2p + 3×1p  \n",
    "How many different ways can £2 be made using any number of coins?"
   ]
  },
  {
   "cell_type": "code",
   "execution_count": 1,
   "metadata": {
    "collapsed": false
   },
   "outputs": [
    {
     "name": "stdout",
     "output_type": "stream",
     "text": [
      "result: 73682 (0.01s)\n"
     ]
    }
   ],
   "source": [
    "from euler import timer\n",
    "\n",
    "def p031():\n",
    "    return len(\n",
    "        [1 for p200 in range(0, 201, 200)\n",
    "           for p100 in range(0,201 - p200, 100)\n",
    "           for p50  in range(0,201 - p200 - p100, 50)\n",
    "           for p20  in range(0,201 - p200 - p100 - p50, 20)\n",
    "           for p10  in range(0,201 - p200 - p100 - p50 - p20, 10)\n",
    "           for p5   in range(0,201 - p200 - p100 - p50 - p20 - p10, 5)\n",
    "           for p2   in range(0,201 - p200 - p100 - p50 - p20 - p10 - p5, 2)])\n",
    "\n",
    "timer(p031)"
   ]
  },
  {
   "cell_type": "markdown",
   "metadata": {},
   "source": [
    "### Pandigital products\n",
    "#### Problem 32\n",
    "We shall say that an n-digit number is pandigital if it makes use of all the digits 1 to n exactly once; for example, the 5-digit number, 15234, is 1 through 5 pandigital.\n",
    "\n",
    "The product 7254 is unusual, as the identity, 39 × 186 = 7254, containing multiplicand, multiplier, and product is 1 through 9 pandigital.\n",
    "\n",
    "Find the sum of all products whose multiplicand/multiplier/product identity can be written as a 1 through 9 pandigital.\n",
    "\n",
    "HINT: Some products can be obtained in more than one way so be sure to only include it once in your sum."
   ]
  },
  {
   "cell_type": "code",
   "execution_count": 1,
   "metadata": {
    "collapsed": false
   },
   "outputs": [
    {
     "name": "stdout",
     "output_type": "stream",
     "text": [
      "result: 45228 (0.27s)\n"
     ]
    }
   ],
   "source": [
    "from math import sqrt\n",
    "from euler import Seq, timer\n",
    "\n",
    "def isPandigital(n):\n",
    "    return (range(2, int(sqrt(n)))\n",
    "     >> Seq.filter(lambda x: n%x==0)\n",
    "     >> Seq.map (lambda x: (str(x) + str(n/x) + str(n)) >> Seq.toSet) \n",
    "     >> Seq.exists (lambda x: x == {'1','2','3','4','5','6','7','8','9'}))\n",
    "\n",
    "def p032():\n",
    "    return range(1000, 10000) >> Seq.filter(isPandigital) >> Seq.sum\n",
    "\n",
    "timer(p032)"
   ]
  },
  {
   "cell_type": "markdown",
   "metadata": {},
   "source": [
    "### Digit canceling fractions\n",
    "#### Problem 33\n",
    "The fraction 49/98 is a curious fraction, as an inexperienced mathematician in attempting to simplify it may incorrectly believe that 49/98 = 4/8, which is correct, is obtained by cancelling the 9s.\n",
    "\n",
    "We shall consider fractions like, 30/50 = 3/5, to be trivial examples.\n",
    "\n",
    "There are exactly four non-trivial examples of this type of fraction, less than one in value, and containing two digits in the numerator and denominator.\n",
    "\n",
    "If the product of these four fractions is given in its lowest common terms, find the value of the denominator."
   ]
  },
  {
   "cell_type": "code",
   "execution_count": 2,
   "metadata": {
    "collapsed": false
   },
   "outputs": [
    {
     "name": "stdout",
     "output_type": "stream",
     "text": [
      "result: 100 (0.01s)\n"
     ]
    }
   ],
   "source": [
    "from euler import Seq, GCD, fst, snd, timer\n",
    "\n",
    "def p033():\n",
    "\n",
    "    def is_cancelling(a,b):\n",
    "        a_str, b_str = str(a), str(b)\n",
    "        for i in range(2):\n",
    "            for j in range(2):\n",
    "                if a_str[i] == b_str[j]:\n",
    "                    return float(a_str[not i]) / float(b_str[not j]) == float(a) / float(b)\n",
    "        return False\n",
    "\n",
    "    def numbers(n):\n",
    "        return range(n,100) >> Seq.filter(lambda x: (x%10 != 0) & (x%10 != x/10))\n",
    "\n",
    "    fraction = (numbers(10)\n",
    "                >> Seq.collect(lambda x: numbers(x+1) >> Seq.map(lambda y: (x,y)))\n",
    "                >> Seq.filter(lambda (x,y): is_cancelling(x,y))\n",
    "                >> Seq.reduce(lambda x,y: (fst(x)*fst(y), snd(x)*snd(y))))\n",
    "\n",
    "    # then define the denominator by the greatest common divisor     \n",
    "    return snd(fraction) / GCD(fst(fraction), snd(fraction))\n",
    "\n",
    "timer(p033)"
   ]
  },
  {
   "cell_type": "markdown",
   "metadata": {},
   "source": [
    "### Digit factorials\n",
    "#### Problem 34\n",
    "145 is a curious number, as 1! + 4! + 5! = 1 + 24 + 120 = 145.\n",
    "\n",
    "Find the sum of all numbers which are equal to the sum of the factorial of their digits.\n",
    "\n",
    "Note: as 1! = 1 and 2! = 2 are not sums they are not included."
   ]
  },
  {
   "cell_type": "code",
   "execution_count": 3,
   "metadata": {
    "collapsed": false
   },
   "outputs": [
    {
     "name": "stdout",
     "output_type": "stream",
     "text": [
      "result: 40730 (3.81s)\n"
     ]
    }
   ],
   "source": [
    "from math import factorial\n",
    "from euler import Seq, fst, timer\n",
    "\n",
    "def p034():\n",
    "\n",
    "    def factsum(n):\n",
    "        acc = 0\n",
    "        while n >= 1:\n",
    "            acc += factorial(n%10)\n",
    "            n /= 10\n",
    "        return acc\n",
    "\n",
    "    max_n  = (fst(Seq.initInfinite(lambda x: (x, x * factorial(9)))\n",
    "                  >> Seq.find(lambda (a,b): (10 ** a - 1) > b)) - 1) * factorial(9)\n",
    "\n",
    "    def nums():\n",
    "        for i in range(3, max_n + 1):\n",
    "            if i == factsum(i):\n",
    "                yield i\n",
    "\n",
    "    return nums() >> Seq.sum\n",
    "\n",
    "timer(p034)"
   ]
  },
  {
   "cell_type": "markdown",
   "metadata": {},
   "source": [
    "### Circular primes\n",
    "#### Problem 35\n",
    "The number, 197, is called a circular prime because all rotations of the digits: 197, 971, and 719, are themselves prime.\n",
    "\n",
    "There are thirteen such primes below 100: 2, 3, 5, 7, 11, 13, 17, 31, 37, 71, 73, 79, and 97.\n",
    "\n",
    "How many circular primes are there below one million?"
   ]
  },
  {
   "cell_type": "code",
   "execution_count": 4,
   "metadata": {
    "collapsed": false
   },
   "outputs": [
    {
     "name": "stdout",
     "output_type": "stream",
     "text": [
      "result: 55 (1.90s)\n"
     ]
    }
   ],
   "source": [
    "from euler import Seq, primes, timer\n",
    "\n",
    "def p035():\n",
    "\n",
    "    def contains_even(n):\n",
    "        return str(n) >> Seq.map(int) >> Seq.exists(lambda x: x%2==0)\n",
    "\n",
    "    def shift(n):\n",
    "        str_n = str(n)\n",
    "        return int(str_n[1:] + str_n[0])\n",
    "\n",
    "    def circle(n):\n",
    "        yield n\n",
    "        m = shift(n)\n",
    "        while m != n:\n",
    "            yield m\n",
    "            m = shift(m)\n",
    "\n",
    "    p = (primes() \n",
    "         >> Seq.filter(lambda n: not(contains_even(n)))\n",
    "         >> Seq.takeWhile(lambda x: x<1000000) \n",
    "         >> Seq.toList)\n",
    "\n",
    "    def next_p(n): return p >> Seq.find(lambda m: m > n)\n",
    "\n",
    "    n = 2\n",
    "\n",
    "    while n is not None:\n",
    "        if not(all((i in p) for i in circle(n))):\n",
    "            for i in circle(n):\n",
    "                if i in p:\n",
    "                    p.remove(i)\n",
    "        n = next_p(n)\n",
    "\n",
    "    return (p >> Seq.length) + 1\n",
    "\n",
    "timer(p035)"
   ]
  },
  {
   "cell_type": "markdown",
   "metadata": {},
   "source": [
    "### Double-base palindromes\n",
    "#### Problem 36\n",
    "The decimal number, $585 = 1001001001_2$ (binary), is palindromic in both bases.\n",
    "\n",
    "Find the sum of all numbers, less than one million, which are palindromic in base 10 and base 2.\n",
    "\n",
    "(Please note that the palindromic number, in either base, may not include leading zeros.)"
   ]
  },
  {
   "cell_type": "code",
   "execution_count": 5,
   "metadata": {
    "collapsed": false
   },
   "outputs": [
    {
     "name": "stdout",
     "output_type": "stream",
     "text": [
      "result: 872187 (0.63s)\n"
     ]
    }
   ],
   "source": [
    "from euler import Seq, timer\n",
    "\n",
    "def p036():\n",
    "\n",
    "    def dec_is_palindrome(n):\n",
    "        return str(n)[::-1] == str(n)\n",
    "\n",
    "    def bin_is_palindrome(n):\n",
    "        a = (Seq.unfold(lambda x: (x%2, x/2) if (x != 0) else None, n)\n",
    "             >> Seq.toList)\n",
    "        return a == list(reversed(a))\n",
    "\n",
    "    return (\n",
    "        range(1,1000001)\n",
    "        >> Seq.filter(dec_is_palindrome)\n",
    "        >> Seq.filter(bin_is_palindrome)\n",
    "        >> Seq.sum)\n",
    "\n",
    "timer(p036)"
   ]
  },
  {
   "cell_type": "markdown",
   "metadata": {},
   "source": [
    "### Truncatable primes\n",
    "#### Problem 37\n",
    "The number 3797 has an interesting property. Being prime itself, it is possible to continuously remove digits from left to right, and remain prime at each stage: 3797, 797, 97, and 7. Similarly we can work from right to left: 3797, 379, 37, and 3.\n",
    "\n",
    "Find the sum of the only eleven primes that are both truncatable from left to right and right to left.\n",
    "\n",
    "NOTE: 2, 3, 5, and 7 are not considered to be truncatable primes."
   ]
  },
  {
   "cell_type": "code",
   "execution_count": 6,
   "metadata": {
    "collapsed": false
   },
   "outputs": [
    {
     "name": "stdout",
     "output_type": "stream",
     "text": [
      "result: 748317 (0.91s)\n"
     ]
    }
   ],
   "source": [
    "from euler import Seq, primes, is_prime, timer\n",
    "\n",
    "def p037():\n",
    "\n",
    "    def is_truncatable_prime(n):\n",
    "        x = str(n)\n",
    "        for i in range(1,len(x)):\n",
    "            if not(is_prime(int(x[i:])) & is_prime(int(x[:i]))):\n",
    "                return False\n",
    "        return True\n",
    "    \n",
    "    return (\n",
    "        primes()\n",
    "        >> Seq.skipWhile(lambda x: x <= 7)\n",
    "        >> Seq.filter(is_truncatable_prime)\n",
    "        >> Seq.take(11)\n",
    "        >> Seq.sum)\n",
    "\n",
    "timer(p037)"
   ]
  },
  {
   "cell_type": "markdown",
   "metadata": {},
   "source": [
    "### Pandigital multiples\n",
    "#### Problem 38\n",
    "Take the number 192 and multiply it by each of 1, 2, and 3:\n",
    "\n",
    "192 × 1 = 192\n",
    "192 × 2 = 384\n",
    "192 × 3 = 576\n",
    "By concatenating each product we get the 1 to 9 pandigital, 192384576. We will call 192384576 the concatenated product of 192 and (1,2,3)\n",
    "\n",
    "The same can be achieved by starting with 9 and multiplying by 1, 2, 3, 4, and 5, giving the pandigital, 918273645, which is the concatenated product of 9 and (1,2,3,4,5).\n",
    "\n",
    "What is the largest 1 to 9 pandigital 9-digit number that can be formed as the concatenated product of an integer with (1,2, ... , n) where n > 1?"
   ]
  },
  {
   "cell_type": "code",
   "execution_count": 8,
   "metadata": {
    "collapsed": false
   },
   "outputs": [
    {
     "name": "stdout",
     "output_type": "stream",
     "text": [
      "result: 932718654 (0.04s)\n"
     ]
    }
   ],
   "source": [
    "from euler import Seq, timer\n",
    "\n",
    "# largest integer to test is 9876 (2*x concat x)\n",
    "\n",
    "def p038():\n",
    "\n",
    "    def get_pandigital(num):\n",
    "        i = 0\n",
    "        concat_num = ''\n",
    "        while len(concat_num) < 9:\n",
    "            i += 1\n",
    "            concat_num += str(num * i)\n",
    "        if (len(concat_num) == 9) and (sorted(map(int, concat_num)) == range(1,10)):\n",
    "            return int(concat_num)\n",
    "        else:\n",
    "            return None\n",
    "\n",
    "    return max(get_pandigital(n) for n in range(9876,0,-1))\n",
    "\n",
    "timer(p038)"
   ]
  },
  {
   "cell_type": "markdown",
   "metadata": {},
   "source": [
    "### Integer right triangles\n",
    "#### Problem 39\n",
    "If $p$ is the perimeter of a right angle triangle with integral length sides, $\\{a,b,c\\}$, there are exactly three solutions for $p = 120$.\n",
    "\n",
    "$\\{20,48,52\\}, \\{24,45,51\\}, \\{30,40,50\\}$\n",
    "\n",
    "For which value of $p ≤ 1000$, is the number of solutions maximised?"
   ]
  },
  {
   "cell_type": "code",
   "execution_count": 9,
   "metadata": {
    "collapsed": false
   },
   "outputs": [
    {
     "name": "stdout",
     "output_type": "stream",
     "text": [
      "result: 840 (17.13s)\n"
     ]
    }
   ],
   "source": [
    "from euler import Seq, timer\n",
    "\n",
    "def p039():\n",
    "\n",
    "    def sols(p):\n",
    "        return sum(1 for a in range(1,p-1)\n",
    "                   for b in range(a, p-a)\n",
    "                   if (p - a - b) ** 2 == a ** 2 + b ** 2)\n",
    "\n",
    "    return range(3, 1001) >> Seq.maxBy(sols)\n",
    "\n",
    "timer(p039)"
   ]
  },
  {
   "cell_type": "markdown",
   "metadata": {},
   "source": [
    "### Champernowne's constant\n",
    "#### Problem 40\n",
    "An irrational decimal fraction is created by concatenating the positive integers:\n",
    "\n",
    "0.123456789101112131415161718192021...\n",
    "\n",
    "It can be seen that the 12th digit of the fractional part is 1.\n",
    "\n",
    "If $d_n$ represents the nth digit of the fractional part, find the value of the following expression.\n",
    "\n",
    "$d_1 × d_{10} × d_{100} × d_{1000} × d_{10000} × d_{100000} × d_{1000000}$"
   ]
  },
  {
   "cell_type": "code",
   "execution_count": 11,
   "metadata": {
    "collapsed": false
   },
   "outputs": [
    {
     "name": "stdout",
     "output_type": "stream",
     "text": [
      "result: 210 (0.09s)\n"
     ]
    }
   ],
   "source": [
    "from euler import timer\n",
    "\n",
    "def p040():    \n",
    "    s = \"\".join(range(1,500001) >> Seq.map(str))\n",
    "\n",
    "    return (\n",
    "        Seq.init(7, lambda i: int(s[10 ** i - 1])) \n",
    "        >> Seq.reduce(lambda x,y: x*y))\n",
    "    \n",
    "timer(p040)"
   ]
  }
 ],
 "metadata": {
  "kernelspec": {
   "display_name": "Python 2",
   "language": "python",
   "name": "python2"
  },
  "language_info": {
   "codemirror_mode": {
    "name": "ipython",
    "version": 2
   },
   "file_extension": ".py",
   "mimetype": "text/x-python",
   "name": "python",
   "nbconvert_exporter": "python",
   "pygments_lexer": "ipython2",
   "version": "2.7.11"
  }
 },
 "nbformat": 4,
 "nbformat_minor": 0
}
