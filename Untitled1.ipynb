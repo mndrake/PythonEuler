{
 "cells": [
  {
   "cell_type": "code",
   "execution_count": 9,
   "metadata": {
    "collapsed": false
   },
   "outputs": [
    {
     "name": "stdout",
     "output_type": "stream",
     "text": [
      "result: 31875000 (0.11s)\n"
     ]
    }
   ],
   "source": [
    "from euler import timer\n",
    "\n",
    "def p009():\n",
    "    return (\n",
    "        [a*b*(1000-a-b)\n",
    "         for a in range(1,999) \n",
    "         for b in range(a, 1000-a)\n",
    "         if (a ** 2 + b ** 2 == (1000-a-b) ** 2)][0])\n",
    "\n",
    "timer(p009)"
   ]
  },
  {
   "cell_type": "code",
   "execution_count": 11,
   "metadata": {
    "collapsed": false
   },
   "outputs": [
    {
     "name": "stdout",
     "output_type": "stream",
     "text": [
      "result: 31875000 (0.08s)\n"
     ]
    }
   ],
   "source": [
    "from euler import timer, Seq\n",
    "\n",
    "def p009():\n",
    "    return(\n",
    "        range(1,999)\n",
    "        >> Seq.collect(lambda a: range(a, 1000-a) \n",
    "                                 >> Seq.filter(lambda b: (a**2 + b**2 == (1000-a-b)**2)) \n",
    "                                 >> Seq.map(lambda b: a*b*(1000-a-b)))\n",
    "        >> Seq.head)\n",
    "\n",
    "timer(p009)"
   ]
  },
  {
   "cell_type": "code",
   "execution_count": 12,
   "metadata": {
    "collapsed": false
   },
   "outputs": [
    {
     "name": "stdout",
     "output_type": "stream",
     "text": [
      "result: 906609 (0.33s)\n"
     ]
    }
   ],
   "source": [
    "from euler import Seq, timer\n",
    "\n",
    "def p004():\n",
    "    return (\n",
    "        [a*b for a in range(100, 1000)\n",
    "         for b in range(a, 1000)\n",
    "         if str(a*b)[::-1] == str(a*b)]\n",
    "        >> Seq.max)\n",
    "\n",
    "timer(p004)"
   ]
  },
  {
   "cell_type": "code",
   "execution_count": 13,
   "metadata": {
    "collapsed": false
   },
   "outputs": [
    {
     "name": "stdout",
     "output_type": "stream",
     "text": [
      "result: 906609 (0.34s)\n"
     ]
    }
   ],
   "source": [
    "from euler import Seq, timer\n",
    "\n",
    "def p004():\n",
    "    return (\n",
    "        range(100, 1000)\n",
    "        >> Seq.collect(lambda a: range(a, 1000)\n",
    "                                 >> Seq.filter(lambda b: str(a*b)[::-1] == str(a*b))\n",
    "                                 >> Seq.map(lambda b: a*b))\n",
    "        >> Seq.max)\n",
    "\n",
    "timer(p004)"
   ]
  },
  {
   "cell_type": "code",
   "execution_count": null,
   "metadata": {
    "collapsed": true
   },
   "outputs": [],
   "source": []
  }
 ],
 "metadata": {
  "anaconda-cloud": {},
  "kernelspec": {
   "display_name": "Python [Root]",
   "language": "python",
   "name": "Python [Root]"
  },
  "language_info": {
   "codemirror_mode": {
    "name": "ipython",
    "version": 2
   },
   "file_extension": ".py",
   "mimetype": "text/x-python",
   "name": "python",
   "nbconvert_exporter": "python",
   "pygments_lexer": "ipython2",
   "version": "2.7.12"
  }
 },
 "nbformat": 4,
 "nbformat_minor": 0
}
