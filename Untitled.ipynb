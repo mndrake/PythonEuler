{
 "cells": [
  {
   "cell_type": "code",
   "execution_count": 95,
   "metadata": {
    "collapsed": true
   },
   "outputs": [],
   "source": [
    "import numpy as np\n",
    "\n",
    "_primes = [2]\n",
    "\n",
    "def _grow_primes():\n",
    "    p0 = _primes[len(_primes) - 1] + 1\n",
    "    b = np.ones(p0, dtype=bool)\n",
    "    for di in _primes:\n",
    "        i0 = p0 / di * di\n",
    "        if i0 < p0:\n",
    "            b[i0 + di - p0::di] = False\n",
    "        else:\n",
    "            b[i0 - p0::di] = False\n",
    "    _primes.extend(np.where(b)[0] + p0)    \n",
    "\n",
    "def primes():\n",
    "    i = 0\n",
    "    while True:\n",
    "        if i >= len(_primes): _grow_primes()\n",
    "        yield _primes[i]\n",
    "        i += 1\n",
    "\n",
    "def prime(n):\n",
    "    while n >= len(_primes): _grow_primes()\n",
    "    return _primes[n]\n",
    "        \n",
    "#def primes():\n",
    "#    a = [2]\n",
    "#    i = 0\n",
    "#    def grow():\n",
    "#        p0 = a[len(a) - 1] + 1\n",
    "#        b = np.ones(p0, dtype=bool)\n",
    "#        for di in a:\n",
    "#            i0 = p0 / di * di\n",
    "#            if i0 < p0:\n",
    "#                b[i0 + di - p0::di] = False\n",
    "#            else:\n",
    "#                b[i0 - p0::di] = False\n",
    "#        a.extend(np.where(b)[0] + p0)\n",
    "#    while True:\n",
    "#        if i >= len(a): grow()\n",
    "#        yield a[i]\n",
    "#        i += 1"
   ]
  },
  {
   "cell_type": "code",
   "execution_count": null,
   "metadata": {
    "collapsed": true
   },
   "outputs": [],
   "source": []
  },
  {
   "cell_type": "code",
   "execution_count": 89,
   "metadata": {
    "collapsed": false
   },
   "outputs": [
    {
     "name": "stdout",
     "output_type": "stream",
     "text": [
      "CPU times: user 900 ms, sys: 21.7 ms, total: 922 ms\n",
      "Wall time: 921 ms\n"
     ]
    }
   ],
   "source": [
    "%%time\n",
    "\n",
    "import itertools\n",
    "\n",
    "p = list(itertools.takewhile(lambda n: n<10000000, primes()))"
   ]
  },
  {
   "cell_type": "code",
   "execution_count": 94,
   "metadata": {
    "collapsed": false
   },
   "outputs": [
    {
     "name": "stdout",
     "output_type": "stream",
     "text": [
      "CPU times: user 470 ms, sys: 18.1 ms, total: 489 ms\n",
      "Wall time: 482 ms\n"
     ]
    }
   ],
   "source": [
    "%%time\n",
    "\n",
    "import itertools\n",
    "\n",
    "p = list(itertools.takewhile(lambda n: n<20000000, prime_gen()))"
   ]
  },
  {
   "cell_type": "code",
   "execution_count": 99,
   "metadata": {
    "collapsed": false
   },
   "outputs": [
    {
     "data": {
      "text/plain": [
       "5"
      ]
     },
     "execution_count": 99,
     "metadata": {},
     "output_type": "execute_result"
    }
   ],
   "source": [
    "prime(2)"
   ]
  },
  {
   "cell_type": "code",
   "execution_count": 73,
   "metadata": {
    "collapsed": false
   },
   "outputs": [
    {
     "data": {
      "text/plain": [
       "3"
      ]
     },
     "execution_count": 73,
     "metadata": {},
     "output_type": "execute_result"
    }
   ],
   "source": [
    "p.next()"
   ]
  },
  {
   "cell_type": "code",
   "execution_count": 74,
   "metadata": {
    "collapsed": false
   },
   "outputs": [
    {
     "data": {
      "text/plain": [
       "5"
      ]
     },
     "execution_count": 74,
     "metadata": {},
     "output_type": "execute_result"
    }
   ],
   "source": [
    "p.next()"
   ]
  },
  {
   "cell_type": "code",
   "execution_count": 79,
   "metadata": {
    "collapsed": false
   },
   "outputs": [
    {
     "name": "stdout",
     "output_type": "stream",
     "text": [
      "2\n",
      "3\n",
      "5\n",
      "7\n",
      "11\n",
      "13\n",
      "17\n",
      "19\n",
      "23\n",
      "29\n"
     ]
    }
   ],
   "source": [
    "for i, p in enumerate(primes()):\n",
    "    if i == 10: break\n",
    "    print p"
   ]
  },
  {
   "cell_type": "code",
   "execution_count": null,
   "metadata": {
    "collapsed": true
   },
   "outputs": [],
   "source": [
    "def factorial(n):\n",
    "    print 'calc:', n\n",
    "    if (n==0) | (n==1):\n",
    "        return 1\n",
    "    else:\n",
    "        n * factorial(n)"
   ]
  },
  {
   "cell_type": "code",
   "execution_count": null,
   "metadata": {
    "collapsed": true
   },
   "outputs": [],
   "source": [
    "factorial(4)"
   ]
  },
  {
   "cell_type": "code",
   "execution_count": null,
   "metadata": {
    "collapsed": true
   },
   "outputs": [],
   "source": []
  }
 ],
 "metadata": {
  "kernelspec": {
   "display_name": "Python 2",
   "language": "python",
   "name": "python2"
  },
  "language_info": {
   "codemirror_mode": {
    "name": "ipython",
    "version": 2
   },
   "file_extension": ".py",
   "mimetype": "text/x-python",
   "name": "python",
   "nbconvert_exporter": "python",
   "pygments_lexer": "ipython2",
   "version": "2.7.11"
  }
 },
 "nbformat": 4,
 "nbformat_minor": 0
}
